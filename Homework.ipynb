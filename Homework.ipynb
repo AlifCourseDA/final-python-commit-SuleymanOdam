{
 "cells": [
  {
   "cell_type": "code",
   "execution_count": 1,
   "id": "3b7ea73a",
   "metadata": {},
   "outputs": [
    {
     "name": "stdout",
     "output_type": "stream",
     "text": [
      "Hello worl\n"
     ]
    }
   ],
   "source": [
    "print('Hello worl')"
   ]
  },
  {
   "cell_type": "code",
   "execution_count": 2,
   "id": "38321231",
   "metadata": {},
   "outputs": [
    {
     "name": "stdout",
     "output_type": "stream",
     "text": [
      "Hello world\n"
     ]
    }
   ],
   "source": [
    "print(\"Hello world\")"
   ]
  },
  {
   "cell_type": "code",
   "execution_count": 3,
   "id": "7c24d8da",
   "metadata": {},
   "outputs": [
    {
     "name": "stdout",
     "output_type": "stream",
     "text": [
      "Hello world my name is Suleyman i am the best programmer in the wor\n"
     ]
    }
   ],
   "source": [
    "print('''Hello world my name is Suleyman i am the best programmer in the wor''')"
   ]
  },
  {
   "cell_type": "code",
   "execution_count": 4,
   "id": "eeece5d1",
   "metadata": {},
   "outputs": [
    {
     "name": "stdout",
     "output_type": "stream",
     "text": [
      "Hello world this is so boring \n"
     ]
    }
   ],
   "source": [
    "print(\"\"\"Hello world this is so boring \"\"\")"
   ]
  },
  {
   "cell_type": "code",
   "execution_count": 5,
   "id": "18c707cb",
   "metadata": {},
   "outputs": [
    {
     "name": "stdout",
     "output_type": "stream",
     "text": [
      "Программа выводит фразу 'Привет мир'\n"
     ]
    }
   ],
   "source": [
    "print(\"Программа выводит фразу 'Привет мир'\") #теперь должно сработать "
   ]
  },
  {
   "cell_type": "code",
   "execution_count": 6,
   "id": "c8d9f67d",
   "metadata": {},
   "outputs": [
    {
     "name": "stdout",
     "output_type": "stream",
     "text": [
      "x and y refer to the same object\n"
     ]
    }
   ],
   "source": [
    "x = 10\n",
    "y = x\n",
    "if id(x) == id(y) :\n",
    "    print('x and y refer to the same object')"
   ]
  },
  {
   "cell_type": "code",
   "execution_count": 7,
   "id": "95658b72",
   "metadata": {},
   "outputs": [
    {
     "name": "stdout",
     "output_type": "stream",
     "text": [
      "x and y refer to the same object\n"
     ]
    }
   ],
   "source": [
    "x = 10\n",
    "y = 10\n",
    "if id(x) == id(y):\n",
    "    print(\"x and y refer to the same object\")"
   ]
  },
  {
   "cell_type": "code",
   "execution_count": 8,
   "id": "2e6cb85f",
   "metadata": {},
   "outputs": [
    {
     "name": "stdout",
     "output_type": "stream",
     "text": [
      "x and y dont refer to the same object\n"
     ]
    }
   ],
   "source": [
    "x = 10\n",
    "y = x\n",
    "x+=1\n",
    "if id(x) != id(y):\n",
    "    print(\"x and y dont refer to the same object\")"
   ]
  },
  {
   "cell_type": "code",
   "execution_count": 9,
   "id": "f8b13c7a",
   "metadata": {},
   "outputs": [
    {
     "name": "stdout",
     "output_type": "stream",
     "text": [
      "10 [] \n"
     ]
    }
   ],
   "source": [
    "a = 10\n",
    "b = []\n",
    "c = \"\"\n",
    "print(a,b,c)"
   ]
  },
  {
   "cell_type": "code",
   "execution_count": 10,
   "id": "41b16d07",
   "metadata": {},
   "outputs": [
    {
     "ename": "SyntaxError",
     "evalue": "unexpected character after line continuation character (2362576736.py, line 1)",
     "output_type": "error",
     "traceback": [
      "\u001b[1;36m  Cell \u001b[1;32mIn[10], line 1\u001b[1;36m\u001b[0m\n\u001b[1;33m    c = \\\"\"\\\u001b[0m\n\u001b[1;37m         ^\u001b[0m\n\u001b[1;31mSyntaxError\u001b[0m\u001b[1;31m:\u001b[0m unexpected character after line continuation character\n"
     ]
    }
   ],
   "source": [
    "\n"
   ]
  },
  {
   "cell_type": "code",
   "execution_count": 11,
   "id": "27f63e57",
   "metadata": {},
   "outputs": [
    {
     "ename": "SyntaxError",
     "evalue": "unexpected character after line continuation character (3521133588.py, line 1)",
     "output_type": "error",
     "traceback": [
      "\u001b[1;36m  Cell \u001b[1;32mIn[11], line 1\u001b[1;36m\u001b[0m\n\u001b[1;33m    c = \\\"\\\"\u001b[0m\n\u001b[1;37m         ^\u001b[0m\n\u001b[1;31mSyntaxError\u001b[0m\u001b[1;31m:\u001b[0m unexpected character after line continuation character\n"
     ]
    }
   ],
   "source": [
    "c = \\\"\\\"\n",
    "print(c)"
   ]
  },
  {
   "cell_type": "code",
   "execution_count": 12,
   "id": "252d6569",
   "metadata": {},
   "outputs": [
    {
     "name": "stdout",
     "output_type": "stream",
     "text": [
      "Type of a :type(a)\n",
      "\n",
      "Type of b:type(b)\n",
      "\n",
      "Type of c :type(C)\n"
     ]
    }
   ],
   "source": [
    "a = 5\n",
    "print(\"Type of a :type(a)\")\n",
    "b = 6.0\n",
    "print(\"\\nType of b:type(b)\")\n",
    "c = 3+4j\n",
    "print(\"\\nType of c :type(C)\")"
   ]
  },
  {
   "cell_type": "code",
   "execution_count": null,
   "id": "809a4123",
   "metadata": {},
   "outputs": [],
   "source": []
  }
 ],
 "metadata": {
  "kernelspec": {
   "display_name": "Python 3 (ipykernel)",
   "language": "python",
   "name": "python3"
  },
  "language_info": {
   "codemirror_mode": {
    "name": "ipython",
    "version": 3
   },
   "file_extension": ".py",
   "mimetype": "text/x-python",
   "name": "python",
   "nbconvert_exporter": "python",
   "pygments_lexer": "ipython3",
   "version": "3.11.5"
  }
 },
 "nbformat": 4,
 "nbformat_minor": 5
}
